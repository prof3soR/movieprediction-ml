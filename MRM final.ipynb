{
 "cells": [
  {
   "cell_type": "code",
   "execution_count": 22,
   "id": "e718f8d1",
   "metadata": {},
   "outputs": [
    {
     "name": "stdout",
     "output_type": "stream",
     "text": [
      "Enter your movie name : The martian\n",
      "Movies you might like : \n",
      "1. The Martian\n",
      "2. Red Planet\n",
      "3. The Last Days on Mars\n",
      "4. Mission to Mars\n",
      "5. Total Recall\n",
      "6. John Carter\n",
      "7. Mars Attacks!\n",
      "8. Ghosts of Mars\n",
      "9. Moon\n",
      "10. All Is Lost\n"
     ]
    }
   ],
   "source": [
    "import pandas as pd\n",
    "import numpy as np\n",
    "import difflib\n",
    "from sklearn.metrics.pairwise import cosine_similarity\n",
    "from sklearn.feature_extraction.text import TfidfVectorizer \n",
    "netflix=pd.read_csv('movies.csv')\n",
    "features=['genres','keywords','tagline','cast','director','overview']\n",
    "for i in features:\n",
    "    netflix[i]=netflix[i].fillna('')\n",
    "all_features=netflix['cast']+' '+netflix['genres']+' '+' '+netflix['keywords']+' '+netflix['tagline']+netflix['director']+netflix['overview']\n",
    "vect=TfidfVectorizer()\n",
    "feature_vector=vect.fit_transform(all_features)\n",
    "similarity = cosine_similarity(feature_vector)\n",
    "all_titles=netflix['title'].tolist()\n",
    "movie=input(\"Enter your movie name : \")\n",
    "all_close_match=difflib.get_close_matches(movie,all_titles)\n",
    "close_match=all_close_match[0]\n",
    "index=netflix[netflix.title==close_match]['index'].values[0]\n",
    "similarity_score=list(enumerate(similarity [index]))\n",
    "sorted_movies=sorted(similarity_score, key=lambda x:x[1],reverse=True)\n",
    "print(\"Movies you might like : \")\n",
    "count=1\n",
    "for i in sorted_movies:\n",
    "    index=i[0]\n",
    "    title_from_data=netflix[netflix.index==index]['title'].values[0]\n",
    "    if count<=10:\n",
    "        print(str(count)+'. '+title_from_data)\n",
    "        count+=1"
   ]
  }
 ],
 "metadata": {
  "kernelspec": {
   "display_name": "Python 3 (ipykernel)",
   "language": "python",
   "name": "python3"
  },
  "language_info": {
   "codemirror_mode": {
    "name": "ipython",
    "version": 3
   },
   "file_extension": ".py",
   "mimetype": "text/x-python",
   "name": "python",
   "nbconvert_exporter": "python",
   "pygments_lexer": "ipython3",
   "version": "3.9.6"
  }
 },
 "nbformat": 4,
 "nbformat_minor": 5
}
